{
 "cells": [
  {
   "cell_type": "markdown",
   "metadata": {},
   "source": [
    "# MORSE CODE ENCRYPTION DECRYPTION\n",
    "#### 1 space indicates different characters\n",
    "#### 2 indicates different words"
   ]
  },
  {
   "cell_type": "code",
   "execution_count": 1,
   "metadata": {},
   "outputs": [],
   "source": [
    "#Dictionary of morse code\n",
    "MORSE_CODE_DICT = { 'A':'.-', 'B':'-...',\n",
    "                    'C':'-.-.', 'D':'-..', 'E':'.',\n",
    "                    'F':'..-.', 'G':'--.', 'H':'....',\n",
    "                    'I':'..', 'J':'.---', 'K':'-.-',\n",
    "                    'L':'.-..', 'M':'--', 'N':'-.',\n",
    "                    'O':'---', 'P':'.--.', 'Q':'--.-',\n",
    "                    'R':'.-.', 'S':'...', 'T':'-',\n",
    "                    'U':'..-', 'V':'...-', 'W':'.--',\n",
    "                    'X':'-..-', 'Y':'-.--', 'Z':'--..',\n",
    "                    '1':'.----', '2':'..---', '3':'...--',\n",
    "                    '4':'....-', '5':'.....', '6':'-....',\n",
    "                    '7':'--...', '8':'---..', '9':'----.',\n",
    "                    '0':'-----', ', ':'--..--', '.':'.-.-.-',\n",
    "                    '?':'..--..', '/':'-..-.', '-':'-....-',\n",
    "                    '(':'-.--.', ')':'-.--.-'\n",
    "                  }\n"
   ]
  },
  {
   "cell_type": "code",
   "execution_count": 2,
   "metadata": {},
   "outputs": [],
   "source": [
    "# Function to encrypt the plain text according to the morse code chart\n",
    "def encrypt(msg):\n",
    "    cipher = ''\n",
    "    for letter in msg:\n",
    "        if letter != ' ':\n",
    "  \n",
    "            # Looks up the dictionary and adds the\n",
    "            # correspponding morse code + space\n",
    "            cipher += MORSE_CODE_DICT[letter] + ' '\n",
    "        else:\n",
    "            cipher += ' '\n",
    "  \n",
    "    return cipher\n"
   ]
  },
  {
   "cell_type": "code",
   "execution_count": 3,
   "metadata": {},
   "outputs": [],
   "source": [
    "# Function to decrypt the string from morse to english\n",
    "def decrypt(message):\n",
    "  \n",
    "    # extra space added at the end to access the\n",
    "    message += ' '\n",
    "  \n",
    "    decipher = ''\n",
    "    citext = ''\n",
    "    for letter in message:\n",
    "  \n",
    "        # checks for space\n",
    "        if (letter != ' '):\n",
    "  \n",
    "            # for space\n",
    "            i = 0\n",
    "  \n",
    "            # storing morse code of a single character\n",
    "            citext += letter\n",
    "  \n",
    "        # in case of space\n",
    "        else:\n",
    "            # if i = 1 that indicates a new character\n",
    "            i += 1\n",
    "  \n",
    "            # if i = 2 that indicates a new word\n",
    "            if i == 2 :\n",
    "  \n",
    "                 # adding space to separate words\n",
    "                decipher += ' '\n",
    "            else:\n",
    "  \n",
    "                # accessing the keys using their values (reverse of encryption)\n",
    "                decipher += list(MORSE_CODE_DICT.keys())[list(MORSE_CODE_DICT.values()).index(citext)]\n",
    "                citext = ''\n",
    "  \n",
    "    return decipher\n"
   ]
  },
  {
   "cell_type": "code",
   "execution_count": 4,
   "metadata": {},
   "outputs": [],
   "source": [
    "# Hard-coded driver function to run the program\n",
    "def main():\n",
    "    while True:\n",
    "        print(\"Enter your choice\")\n",
    "        print(\"1.)For Encryption Enter E or e\")\n",
    "        print(\"2.)For Decrypion Enter D or d\")\n",
    "        choice=input()\n",
    "        if choice not in ('E','e','D','d'):\n",
    "            print(\"Wrong choice\")\n",
    "        else:\n",
    "            message=input(\"Enter the message:\")\n",
    "            if choice in ('E','e'):\n",
    "                result=encrypt(message.upper())\n",
    "                print(\"Encrypted Text is :{}\".format(result))\n",
    "            if choice in ('D','d'):\n",
    "                result=decrypt(message)\n",
    "                print(\"Decrypted Text is :{}\".format(result))\n",
    "        c=input(\"Want to try again:('y/n')\")\n",
    "        if c in ('Y','y'):\n",
    "            continue\n",
    "        else:\n",
    "            break\n",
    "\n",
    "\n"
   ]
  },
  {
   "cell_type": "code",
   "execution_count": 5,
   "metadata": {},
   "outputs": [
    {
     "name": "stdout",
     "output_type": "stream",
     "text": [
      "Enter your choice\n",
      "1.)For Encryption Enter E or e\n",
      "2.)For Decrypion Enter D or d\n",
      "e\n",
      "Enter the message:This program is for Morse Code Encryption Decryption.\n",
      "Encrypted Text is :- .... .. ...  .--. .-. --- --. .-. .- --  .. ...  ..-. --- .-.  -- --- .-. ... .  -.-. --- -.. .  . -. -.-. .-. -.-- .--. - .. --- -.  -.. . -.-. .-. -.-- .--. - .. --- -. .-.-.- \n",
      "Want to try again:('y/n')y\n",
      "Enter your choice\n",
      "1.)For Encryption Enter E or e\n",
      "2.)For Decrypion Enter D or d\n",
      "d\n",
      "Enter the message:- .... .. ...  .--. .-. --- --. .-. .- --  .. ...  ..-. --- .-.  -- --- .-. ... .  -.-. --- -.. .  . -. -.-. .-. -.-- .--. - .. --- -.  -.. . -.-. .-. -.-- .--. - .. --- -. .-.-.- \n",
      "Decrypted Text is :THIS PROGRAM IS FOR MORSE CODE ENCRYPTION DECRYPTION. \n",
      "Want to try again:('y/n')n\n"
     ]
    }
   ],
   "source": [
    "# Executes the main function\n",
    "if __name__ == '__main__':\n",
    "    main()"
   ]
  }
 ],
 "metadata": {
  "kernelspec": {
   "display_name": "Python 3",
   "language": "python",
   "name": "python3"
  },
  "language_info": {
   "codemirror_mode": {
    "name": "ipython",
    "version": 3
   },
   "file_extension": ".py",
   "mimetype": "text/x-python",
   "name": "python",
   "nbconvert_exporter": "python",
   "pygments_lexer": "ipython3",
   "version": "3.6.5"
  }
 },
 "nbformat": 4,
 "nbformat_minor": 2
}
