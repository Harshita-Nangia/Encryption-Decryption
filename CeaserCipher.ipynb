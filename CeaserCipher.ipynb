{
 "cells": [
  {
   "cell_type": "markdown",
   "metadata": {},
   "source": [
    "# Ceaser and Cipher Encryption Decryption"
   ]
  },
  {
   "cell_type": "code",
   "execution_count": 1,
   "metadata": {},
   "outputs": [],
   "source": [
    "# Function to encrypt using the key given by user\n",
    "def encrypt(msg,k):\n",
    "    text=\"\"\n",
    "    for i in range(len(msg)):\n",
    "        c=msg[i]\n",
    "        if c.isalpha()==True:\n",
    "            if c.isupper()==True:\n",
    "                text+=chr((ord(c)+k-65)%26+65)\n",
    "            else:\n",
    "                text+=chr((ord(c)+k-97)%26+97)\n",
    "        else:\n",
    "            text+=c\n",
    "    return text"
   ]
  },
  {
   "cell_type": "code",
   "execution_count": 2,
   "metadata": {},
   "outputs": [],
   "source": [
    "# Function to decrypt using the key given by user\n",
    "def decrypt(msg,k):\n",
    "    text=\"\"\n",
    "    for i in range(len(msg)):\n",
    "        c=msg[i]\n",
    "        if c.isalpha()==True:\n",
    "            if c.isupper()==True:\n",
    "                text+=chr((ord(c)-k-65)%26+65)\n",
    "            else:\n",
    "                text+=chr((ord(c)-k-97)%26+97)\n",
    "        else:\n",
    "            text+=c\n",
    "    return text"
   ]
  },
  {
   "cell_type": "code",
   "execution_count": 3,
   "metadata": {},
   "outputs": [],
   "source": [
    "def main():\n",
    "    while True:\n",
    "        print(\"Enter your choice\")\n",
    "        print(\"1.)For Encryption Enter E or e\")\n",
    "        print(\"2.)For Decrypion Enter D or d\")\n",
    "        choice=input()\n",
    "        if choice not in ('E','e','D','d'):\n",
    "            print(\"Wrong choice\")\n",
    "        else:\n",
    "            msg=input(\"Enter the message:\")\n",
    "            k=int(input(\"Enter the key to be used:\"))\n",
    "            if choice in ('E','e'):\n",
    "                result=encrypt(msg,k)\n",
    "                print(\"Encrypted Text is :{}\".format(result))\n",
    "            if choice in ('D','d'):\n",
    "                result=decrypt(msg,k)\n",
    "                print(\"Decrypted Text is :{}\".format(result))\n",
    "        c=input(\"Want to try again:('y/n')\")\n",
    "        if c in ('Y','y'):\n",
    "            continue\n",
    "        else:\n",
    "            break\n"
   ]
  },
  {
   "cell_type": "code",
   "execution_count": 4,
   "metadata": {},
   "outputs": [
    {
     "name": "stdout",
     "output_type": "stream",
     "text": [
      "Enter your choice\n",
      "1.)For Encryption Enter E or e\n",
      "2.)For Decrypion Enter D or d\n",
      "e\n",
      "Enter the message:This program is for Ceaser Cipher Encryption Decryption\n",
      "Enter the key to be used:2\n",
      "Encrypted Text is :Vjku rtqitco ku hqt Egcugt Ekrjgt Gpetarvkqp Fgetarvkqp\n",
      "Want to try again:('y/n')y\n",
      "Enter your choice\n",
      "1.)For Encryption Enter E or e\n",
      "2.)For Decrypion Enter D or d\n",
      "d\n",
      "Enter the message:Vjku rtqitco ku hqt Egcugt Ekrjgt Gpetarvkqp Fgetarvkqp\n",
      "Enter the key to be used:2\n",
      "Decrypted Text is :This program is for Ceaser Cipher Encryption Decryption\n",
      "Want to try again:('y/n')n\n"
     ]
    }
   ],
   "source": [
    "# Executes the main function\n",
    "if __name__ == '__main__':\n",
    "    main()"
   ]
  }
 ],
 "metadata": {
  "kernelspec": {
   "display_name": "Python 3",
   "language": "python",
   "name": "python3"
  },
  "language_info": {
   "codemirror_mode": {
    "name": "ipython",
    "version": 3
   },
   "file_extension": ".py",
   "mimetype": "text/x-python",
   "name": "python",
   "nbconvert_exporter": "python",
   "pygments_lexer": "ipython3",
   "version": "3.6.5"
  }
 },
 "nbformat": 4,
 "nbformat_minor": 2
}
